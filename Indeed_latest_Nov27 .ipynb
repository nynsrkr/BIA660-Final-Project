{
 "cells": [
  {
   "cell_type": "code",
   "execution_count": 12,
   "metadata": {},
   "outputs": [],
   "source": [
    "from selenium import webdriver\n",
    "\n",
    "DRIVER_PATH = './chromedriver'\n",
    "driver = webdriver.Chrome(executable_path = DRIVER_PATH)\n",
    "\n",
    "driver.get('https://www.indeed.com')\n",
    "driver.maximize_window()\n",
    "\n",
    "initial_search_button = driver.find_element_by_xpath('//*[@id=\"whatWhereFormId\"]/div[3]/button')\n",
    "initial_search_button.click()\n",
    "\n",
    "advanced_search = driver.find_element_by_xpath(\"//a[contains(text(),'Advanced Job Search')]\")\n",
    "advanced_search.click()\n",
    "\n",
    "#search data engineer \n",
    "search_field = \"Data+Engineer\"\n",
    "search_job = driver.find_element_by_xpath('//*[@id=\"as_and\"]')\n",
    "search_job.send_keys([search_field])\n",
    "#enter location\n",
    "job_location =\"Baltimore\"\n",
    "location_job = driver.find_element_by_xpath('//*[@id=\"where\"]')\n",
    "location_job.clear()\n",
    "location_job.send_keys([job_location])\n",
    "# search as per radius\n",
    "search_radius = driver.find_element_by_xpath('//*[@id=\"radius\"]/option[7]')\n",
    "search_radius.click()\n",
    "\n",
    "#set display limit of 15 results per page\n",
    "# display_limit = driver.find_element_by_xpath('//*[@id=\"limit\"]')\n",
    "# display_limit.click() \n",
    "#sort by date\n",
    "sort_option = driver.find_element_by_xpath('//select[@id=\"sort\"]//option[@value=\"date\"]')\n",
    "sort_option.click()\n",
    "search_button = driver.find_element_by_xpath('//*[@id=\"fj\"]')\n",
    "search_button.click()"
   ]
  },
  {
   "cell_type": "code",
   "execution_count": 13,
   "metadata": {},
   "outputs": [
    {
     "name": "stdout",
     "output_type": "stream",
     "text": [
      "Page: 2\n",
      "Page: 3\n",
      "Page: 4\n",
      "Page: 5\n",
      "Page: 6\n",
      "Page: 7\n",
      "Page: 8\n",
      "Page: 9\n",
      "Page: 10\n",
      "Page: 11\n",
      "Page: 12\n",
      "Page: 13\n",
      "Page: 14\n",
      "Page: 15\n",
      "Page: 16\n",
      "Page: 17\n",
      "Page: 18\n",
      "Page: 19\n",
      "Page: 20\n",
      "Page: 21\n",
      "Page: 22\n",
      "Page: 23\n",
      "Page: 24\n",
      "Page: 25\n",
      "Page: 26\n"
     ]
    }
   ],
   "source": [
    "driver.implicitly_wait(10) \n",
    "\n",
    "titles=[]\n",
    "locations=[]\n",
    "links =[]\n",
    "descriptions=[]\n",
    "\n",
    "\n",
    "for i in range(0,25):\n",
    "    \n",
    "    job_card = driver.find_elements_by_xpath('//div[contains(@class,\"clickcard\")]')\n",
    "    \n",
    "    for job in job_card:\n",
    "        \n",
    "        try:\n",
    "            location = job.find_element_by_xpath('.//span[contains(@class,\"location\")]').text\n",
    "        except:\n",
    "            location = \"Not Specified\"\n",
    "    #.  tells only to look at the element       \n",
    "        locations.append(location)\n",
    "        \n",
    "        try:\n",
    "            title  = job.find_element_by_xpath('.//h2[@class=\"title\"]//a').text\n",
    "        except:\n",
    "            title = job.find_element_by_xpath('.//h2[@class=\"title\"]//a').get_attribute(name=\"title\")\n",
    "        titles.append(title)\n",
    "        links.append(job.find_element_by_xpath('.//h2[@class=\"title\"]//a').get_attribute(name=\"href\"))\n",
    "#       \n",
    "        \n",
    "    \n",
    "    try:\n",
    "        next_page = driver.find_element_by_xpath('//a[@aria-label={}]//span[@class=\"pn\"]'.format(i+2))\n",
    "        next_page.click()\n",
    "\n",
    "    except:\n",
    "        next_page = driver.find_element_by_xpath('//a[@aria-label=\"Next\"]//span[@class=\"np\"]')\n",
    "\n",
    "        \n",
    "    \n",
    "    print(\"Page: {}\".format(str(i+2)))"
   ]
  },
  {
   "cell_type": "code",
   "execution_count": null,
   "metadata": {},
   "outputs": [],
   "source": [
    "import time\n",
    "descriptions=[]\n",
    "count = 1\n",
    "for link in links:  \n",
    "    file_name = 'link_' + str(count) + '.html'\n",
    "    with open('./BIA_660_RAW_HTML_DE_Baltimore/'+ file_name, 'w', encoding=\"utf-8\") as f:\n",
    "        driver.get(link)        \n",
    "        html = driver.page_source\n",
    "        time.sleep(6)\n",
    "        f.write(html)\n",
    "    try:    \n",
    "        jd = driver.find_element_by_xpath('//div[@id=\"jobDescriptionText\"]').text\n",
    "        descriptions.append(jd)\n",
    "        count += 1\n",
    "    except:    \n",
    "        descriptions.append(\"No Description Specified\")\n",
    "        count += 1"
   ]
  },
  {
   "cell_type": "code",
   "execution_count": null,
   "metadata": {},
   "outputs": [],
   "source": [
    "import pandas as pd\n",
    "df_indeed=pd.DataFrame()\n",
    "df_indeed['Title']=titles\n",
    "#df_indeed['Location']=locations\n",
    "#df_indeed['Link']=links\n",
    "df_indeed['Description']=descriptions"
   ]
  },
  {
   "cell_type": "code",
   "execution_count": null,
   "metadata": {},
   "outputs": [],
   "source": [
    "df_indeed"
   ]
  },
  {
   "cell_type": "code",
   "execution_count": null,
   "metadata": {},
   "outputs": [],
   "source": [
    "df_indeed.to_csv(search_field+\"_\"+job_location+'.csv')"
   ]
  },
  {
   "cell_type": "code",
   "execution_count": null,
   "metadata": {},
   "outputs": [],
   "source": []
  }
 ],
 "metadata": {
  "kernelspec": {
   "display_name": "Python 3",
   "language": "python",
   "name": "python3"
  },
  "language_info": {
   "codemirror_mode": {
    "name": "ipython",
    "version": 3
   },
   "file_extension": ".py",
   "mimetype": "text/x-python",
   "name": "python",
   "nbconvert_exporter": "python",
   "pygments_lexer": "ipython3",
   "version": "3.8.3"
  }
 },
 "nbformat": 4,
 "nbformat_minor": 4
}
